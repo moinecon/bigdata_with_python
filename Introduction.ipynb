{
 "cells": [
  {
   "cell_type": "markdown",
   "id": "2c436518-7260-4821-bbc2-9e43aaf99fdb",
   "metadata": {},
   "source": [
    "# Chap 1: Introduction"
   ]
  },
  {
   "cell_type": "markdown",
   "id": "db204583-c139-4161-b248-6cc31c50230d",
   "metadata": {},
   "source": [
    "## Bigdata with Python"
   ]
  },
  {
   "cell_type": "markdown",
   "id": "f8e2612d-5e90-4ea9-b9af-33c6937e7303",
   "metadata": {},
   "source": [
    "### Setups I have followed\n",
    "- Install Anaconda to get the all necessary installation including Python, Pandas, Jupyter Notebook, Jupyter Lab and many other packages\n",
    "- From control panel, type \"Jupyter lab\" and it will automatically open Jupyter Lab on your web browser\n",
    "- Make a \"Jupyter\" folder to keep the .ipynb files in a organized way\n",
    "- To install a \"solarized dark\" theme, go to the extension and load the extension to become able to set up it\n",
    "- This youtube tutorial is useful <https://youtu.be/5pf0_bpNbkw?si=gyCjn_OA3YIOFOye>"
   ]
  },
  {
   "cell_type": "code",
   "execution_count": null,
   "id": "e63636f2-ef72-4853-881b-a5f66d296ea7",
   "metadata": {},
   "outputs": [],
   "source": []
  }
 ],
 "metadata": {
  "kernelspec": {
   "display_name": "Python 3 (ipykernel)",
   "language": "python",
   "name": "python3"
  },
  "language_info": {
   "codemirror_mode": {
    "name": "ipython",
    "version": 3
   },
   "file_extension": ".py",
   "mimetype": "text/x-python",
   "name": "python",
   "nbconvert_exporter": "python",
   "pygments_lexer": "ipython3",
   "version": "3.11.5"
  }
 },
 "nbformat": 4,
 "nbformat_minor": 5
}
