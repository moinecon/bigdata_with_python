{
 "cells": [
  {
   "cell_type": "markdown",
   "id": "7e8f5045-c0bf-4422-aedd-47372be16c08",
   "metadata": {},
   "source": [
    "### Intriduction to Bigdata"
   ]
  },
  {
   "cell_type": "code",
   "execution_count": null,
   "id": "6b9d62be-77b3-4e07-bc0d-a60222a97b62",
   "metadata": {},
   "outputs": [],
   "source": []
  }
 ],
 "metadata": {
  "kernelspec": {
   "display_name": "Python 3 (ipykernel)",
   "language": "python",
   "name": "python3"
  },
  "language_info": {
   "codemirror_mode": {
    "name": "ipython",
    "version": 3
   },
   "file_extension": ".py",
   "mimetype": "text/x-python",
   "name": "python",
   "nbconvert_exporter": "python",
   "pygments_lexer": "ipython3",
   "version": "3.11.5"
  }
 },
 "nbformat": 4,
 "nbformat_minor": 5
}
